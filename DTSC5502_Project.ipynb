{
  "nbformat": 4,
  "nbformat_minor": 0,
  "metadata": {
    "colab": {
      "provenance": [],
      "authorship_tag": "ABX9TyOIWSVNl8ZuwhC5u+Hu73/O",
      "include_colab_link": true
    },
    "kernelspec": {
      "name": "python3",
      "display_name": "Python 3"
    },
    "language_info": {
      "name": "python"
    }
  },
  "cells": [
    {
      "cell_type": "markdown",
      "metadata": {
        "id": "view-in-github",
        "colab_type": "text"
      },
      "source": [
        "<a href=\"https://colab.research.google.com/github/Manisha946/notebooks/blob/main/DTSC5502_Project.ipynb\" target=\"_parent\"><img src=\"https://colab.research.google.com/assets/colab-badge.svg\" alt=\"Open In Colab\"/></a>"
      ]
    },
    {
      "cell_type": "code",
      "execution_count": 3,
      "metadata": {
        "colab": {
          "base_uri": "https://localhost:8080/"
        },
        "id": "s746REXOjRgS",
        "outputId": "c526924e-c346-426c-cf5d-233f99e0419d"
      },
      "outputs": [
        {
          "output_type": "stream",
          "name": "stdout",
          "text": [
            "Cloning into 'DTSC5502Project'...\n",
            "fatal: could not read Username for 'https://github.com': No such device or address\n"
          ]
        }
      ],
      "source": [
        "! git clone https://github.com/gitmystuff/DTSC5502Project.git"
      ]
    },
    {
      "cell_type": "code",
      "source": [
        "# from project.dtsc5502.version import __version__\n",
        "# import project.dtsc5502.statistics as stats\n",
        "# import project.dtsc5502.probabilities as probs\n",
        "\n",
        "# # usage examples\n",
        "# print('DTSC5502 Version:', __version__)\n",
        "# lst = [1, 2, 3]\n",
        "# print(stats.descriptive.mean(lst))\n",
        "# print(probs.functions.factorial(3))"
      ],
      "metadata": {
        "id": "wy7rWgOnkG1r"
      },
      "execution_count": 5,
      "outputs": []
    },
    {
      "cell_type": "code",
      "source": [],
      "metadata": {
        "id": "C28eIEp1kNY-"
      },
      "execution_count": null,
      "outputs": []
    }
  ]
}